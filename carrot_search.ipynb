{
 "cells": [
  {
   "cell_type": "code",
   "execution_count": null,
   "id": "8e91ea9f",
   "metadata": {},
   "outputs": [],
   "source": [
    "pip install webdriver-manager\n",
    "pip install selenium"
   ]
  },
  {
   "cell_type": "code",
   "execution_count": null,
   "id": "6de88fab",
   "metadata": {},
   "outputs": [],
   "source": [
    "from selenium import webdriver\n",
    "from selenium.webdriver.common.keys import Keys\n",
    "from selenium.webdriver.chrome.service import Service\n",
    "from selenium.webdriver.chrome.options import Options\n",
    "from selenium.webdriver.support.ui import WebDriverWait\n",
    "from selenium.webdriver.support import expected_conditions as EC\n",
    "from selenium.webdriver.common.by import By\n",
    "from bs4 import BeautifulSoup as bs\n",
    "import time\n",
    "import re\n",
    "import ipywidgets as widgets\n",
    "from IPython.display import display"
   ]
  },
  {
   "cell_type": "code",
   "execution_count": null,
   "id": "c041495f",
   "metadata": {},
   "outputs": [],
   "source": [
    "# 함수 정의\n",
    "def check_exists_by_xpath(xpath):\n",
    "    try:\n",
    "        driver.find_element_by_xpath(xpath)\n",
    "        return True\n",
    "    except:\n",
    "        return False\n",
    "\n",
    "def remove_tags(element):\n",
    "    result = ''\n",
    "    try:\n",
    "        result = re.sub('<.+?>', '', str(element), 0).strip()\n",
    "        return result\n",
    "    except NoSuchElementException:\n",
    "        return ''\n"
   ]
  },
  {
   "cell_type": "code",
   "execution_count": null,
   "id": "b12bfbc2",
   "metadata": {},
   "outputs": [],
   "source": [
    "# 중지 버튼 설정 <- 아직 작동 안 함\n",
    "stop_button = widgets.Button(description=\"중지\")\n",
    "display(stop_button)\n",
    "\n",
    "stop_thread = False\n",
    "\n",
    "def on_button_clicked(b):\n",
    "    global stop_thread\n",
    "    stop_thread = True\n",
    "\n",
    "stop_button.on_click(on_button_clicked)\n",
    "\n",
    "# WebDriver 설정\n",
    "chrome_options = Options()\n",
    "chrome_service = Service('')\n",
    "driver = webdriver.Chrome(options=chrome_options, service=chrome_service)\n",
    "\n",
    "# 검색어 입력\n",
    "keyword = input(\"검색어를 입력하세요.\")\n",
    "baseUrl = 'https://www.daangn.com'\n",
    "url = baseUrl+'/search/'+keyword\n",
    "\n",
    "\n",
    "driver.get(url)"
   ]
  },
  {
   "cell_type": "code",
   "execution_count": null,
   "id": "dfc0d171",
   "metadata": {},
   "outputs": [],
   "source": [
    "html = ''\n",
    "result_flea = True\n",
    "try:\n",
    "    check_exists_by_xpath('//*[@id=\"flea-market-wrap\"]')\n",
    "    result_flea = True\n",
    "except:\n",
    "    result_flea = False\n",
    "    \n",
    "if(result_flea == True) :\n",
    "    count = 0 \n",
    "    while True:\n",
    "        if stop_thread:\n",
    "            print('사용자에 의해 종료되었습니다.')\n",
    "            break\n",
    "        try:\n",
    "            more_button = WebDriverWait(driver, 10).until(\n",
    "                EC.element_to_be_clickable((By.XPATH, '//*[@class=\"more-text\"]'))\n",
    "            )\n",
    "            more_button.click() \n",
    "            time.sleep(1) \n",
    "        except:\n",
    "            html = bs(driver.page_source, 'html.parser')\n",
    "            break"
   ]
  },
  {
   "cell_type": "code",
   "execution_count": null,
   "id": "69f4dc6f",
   "metadata": {},
   "outputs": [],
   "source": [
    "html = bs(driver.page_source, 'html.parser')\n",
    "products = html.select('#flea-market-wrap > article')\n",
    "\n",
    "prod_list = []\n",
    "\n",
    "for product in products :\n",
    "    prod_list.append(product)\n",
    "\n",
    "datas = []\n",
    "for prod in prod_list :\n",
    "    container = dict()\n",
    "    try:\n",
    "        container['title'] = remove_tags(prod.find('img')['alt'])\n",
    "        container['img'] = (prod.find('img')['src'])\n",
    "        container['content'] = remove_tags(prod.find('span', {'class' : 'article-content'}))\n",
    "        container['region'] = remove_tags(prod.find('p', {'class' : 'article-region-name'}))\n",
    "        container['price'] = remove_tags(prod.find('p', {'class' : 'article-price'}))\n",
    "        container['link'] = baseUrl+remove_tags(prod.find('a', {'class' : 'flea-market-article-link'})['href'])\n",
    "    except :\n",
    "        print('error', prod)\n",
    "    datas.append(container)\n",
    "\n",
    "# print(datas)"
   ]
  },
  {
   "cell_type": "code",
   "execution_count": null,
   "id": "e557b332",
   "metadata": {},
   "outputs": [],
   "source": [
    "import pandas as pd\n",
    "\n",
    "df = pd.DataFrame(datas)\n",
    "# csv파일로 저장\n",
    "df.to_csv('./'+keyword+'.csv', index=False)\n",
    "# 데이터 확인\n",
    "df"
   ]
  }
 ],
 "metadata": {
  "kernelspec": {
   "display_name": "Python 3 (ipykernel)",
   "language": "python",
   "name": "python3"
  },
  "language_info": {
   "codemirror_mode": {
    "name": "ipython",
    "version": 3
   },
   "file_extension": ".py",
   "mimetype": "text/x-python",
   "name": "python",
   "nbconvert_exporter": "python",
   "pygments_lexer": "ipython3",
   "version": "3.9.13"
  }
 },
 "nbformat": 4,
 "nbformat_minor": 5
}
